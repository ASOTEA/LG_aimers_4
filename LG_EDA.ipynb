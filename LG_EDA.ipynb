{
 "cells": [
  {
   "cell_type": "code",
   "execution_count": 1,
   "id": "53e899c0",
   "metadata": {},
   "outputs": [],
   "source": [
    "import pandas as pd\n",
    "import numpy as np\n",
    "import matplotlib.pyplot as plt\n",
    "import seaborn as sns\n",
    "\n",
    "%matplotlib inline\n",
    "\n",
    "import warnings\n",
    "warnings.filterwarnings('ignore')"
   ]
  },
  {
   "cell_type": "code",
   "execution_count": null,
   "id": "3c873d9d",
   "metadata": {},
   "outputs": [],
   "source": [
    "def seed_everything(seed=0):\n",
    "    random.seed(seed)\n",
    "    os.environ['PYTHONHASHSEED'] = str(seed)\n",
    "    np.random.seed(seed)\n",
    "    \n",
    "SEED = 42\n",
    "seed_everything(SEED)"
   ]
  },
  {
   "cell_type": "code",
   "execution_count": 2,
   "id": "e80ca5d4",
   "metadata": {},
   "outputs": [],
   "source": [
    "train = pd.read_csv(\"train.csv\") # 학습용 데이터\n",
    "test = pd.read_csv(\"submission.csv\") # 테스트 데이터(제출파일의 데이터)"
   ]
  },
  {
   "cell_type": "markdown",
   "id": "edaefe78",
   "metadata": {},
   "source": [
    "## customer_country"
   ]
  },
  {
   "cell_type": "code",
   "execution_count": 3,
   "id": "87a8d433",
   "metadata": {},
   "outputs": [],
   "source": [
    "train['customer_country_list'] = train['customer_country'].str.upper().str.split('/')\n",
    "test['customer_country_list'] = test['customer_country'].str.upper().str.split('/')\n",
    "\n",
    "\n",
    "# pip install pycountry\n",
    "import pycountry\n",
    "\n",
    "country_names = [country.name.upper()for country in pycountry.countries]\n",
    "\n",
    "def find_country_name(country_list):\n",
    "    if not isinstance(country_list, list):\n",
    "        return 'X'\n",
    "    for country in country_list:\n",
    "        stripped_country = country.strip()\n",
    "        if stripped_country in country_names:\n",
    "            return stripped_country\n",
    "    return 'X'\n",
    "\n",
    "country_names.extend(['U.A.E','TURKEY','SOUTH KOREA','VIETNAM','TAIWAN', 'CZECH'])\n",
    "\n",
    "\n",
    "train['in_country_names'] = train['customer_country_list'].apply(find_country_name)\n",
    "test['in_country_names'] = test['customer_country_list'].apply(find_country_name)\n",
    "\n",
    "train = train.drop(['customer_country','customer_country.1', 'customer_country_list'], axis = 1)\n",
    "test = test.drop(['id','customer_country','customer_country.1', 'customer_country_list'], axis = 1)"
   ]
  },
  {
   "cell_type": "markdown",
   "id": "db5d1b13",
   "metadata": {},
   "source": [
    "## customer_idx"
   ]
  },
  {
   "cell_type": "code",
   "execution_count": 4,
   "id": "60e7d871",
   "metadata": {},
   "outputs": [],
   "source": [
    "import pandas as pd\n",
    "\n",
    "\n",
    "frequency = train['customer_idx'].value_counts()\n",
    "\n",
    "# 빈도 기준 설정 (예: 100번 미만으로 등장하는 customer_idx)\n",
    "threshold = 5\n",
    "\n",
    "# 빈도가 낮은 customer_idx는 '기타'로 변경\n",
    "\n",
    "train['customer_idx_grouped'] = train['customer_idx'].apply(lambda x: x if frequency[x] >= threshold else 'others')\n",
    "\n",
    "\n",
    "frequency = test['customer_idx'].value_counts()\n",
    "test['customer_idx_grouped'] = test['customer_idx'].apply(lambda x: x if frequency[x] >= threshold else 'others')\n",
    "\n",
    "\n",
    "\n",
    "\n",
    "train = train.drop(['customer_idx'], axis = 1)\n",
    "test = test.drop(['customer_idx'], axis = 1)\n"
   ]
  },
  {
   "cell_type": "markdown",
   "id": "a7af143c",
   "metadata": {},
   "source": [
    "## com_reg_ver_win_rate"
   ]
  },
  {
   "cell_type": "code",
   "execution_count": 5,
   "id": "1b8cce09",
   "metadata": {},
   "outputs": [],
   "source": [
    "# !pip install pycountry_convert\n",
    "import pycountry_convert as pc\n",
    "import pycountry\n",
    "\n",
    "country_names = [country.name.upper()for country in pycountry.countries]\n",
    "\n",
    "def get_continent(country_name):\n",
    "    try:\n",
    "        # 국가 이름을 적절한 형식으로 변환 (예: 'INDIA' -> 'India')\n",
    "        country_name_corrected = country_name.title()\n",
    "        country_code = pc.country_name_to_country_alpha2(country_name_corrected)\n",
    "        continent_code = pc.country_alpha2_to_continent_code(country_code)\n",
    "        continent_name = pc.convert_continent_code_to_continent_name(continent_code)\n",
    "        return continent_name\n",
    "    except Exception as e:\n",
    "        if country_name == 'U.A.E':\n",
    "            return 'Asia'\n",
    "        elif country_name == 'CZECH':\n",
    "            return 'Europe'\n",
    "        elif country_name == 'ANTIGUA AND BARBUDA':\n",
    "            return 'North America'\n",
    "        elif country_name == 'TRINIDAD AND TOBAGO':\n",
    "            return 'North America'\n",
    "        elif country_name == 'TURKS AND CAICOS ISLANDS':\n",
    "            return 'North America'\n",
    "        elif country_name == 'SAINT KITTS AND NEVIS':\n",
    "            return 'North America'\n",
    "        elif country_name == 'BOSNIA AND HERZEGOVINA':\n",
    "            return 'Europe'\n",
    "        elif country_name == 'ISLE OF MAN':\n",
    "            return 'Europe'\n",
    "            \n",
    "        return 'X'\n",
    "\n",
    "# 함수 적용\n",
    "train['continent'] = train['in_country_names'].apply(get_continent)\n",
    "test['continent'] = test['in_country_names'].apply(get_continent)\n"
   ]
  },
  {
   "cell_type": "code",
   "execution_count": 6,
   "id": "5b44f0c2",
   "metadata": {},
   "outputs": [
    {
     "name": "stdout",
     "output_type": "stream",
     "text": [
      "Done.\n"
     ]
    }
   ],
   "source": [
    "from sklearn.model_selection import train_test_split\n",
    "from sklearn.linear_model import LinearRegression\n",
    "from sklearn.metrics import mean_squared_error\n",
    "from sklearn.preprocessing import LabelEncoder\n",
    "\n",
    "train_crvwr = train[['business_unit', 'com_reg_ver_win_rate','in_country_names', 'continent']]\n",
    "test_crvwr = test[['business_unit', 'com_reg_ver_win_rate','in_country_names', 'continent']]\n",
    "\n",
    "\n",
    "qual_col = ['business_unit', 'in_country_names', 'continent']\n",
    "\n",
    "for i in qual_col:\n",
    "    le = LabelEncoder()\n",
    "    le = le.fit(train_crvwr[i])\n",
    "    train_crvwr[i] = le.transform(train_crvwr[i])\n",
    "    \n",
    "    for label in np.unique(test_crvwr[i]): \n",
    "        if label not in le.classes_: \n",
    "            le.classes_ = np.append(le.classes_, label)\n",
    "    test_crvwr[i] = le.transform(test_crvwr[i]) \n",
    "\n",
    "print('Done.')\n",
    "\n",
    "\n",
    "labeled_data = train_crvwr[train_crvwr['com_reg_ver_win_rate'].notna()]\n",
    "unlabeled_data = train_crvwr[train_crvwr['com_reg_ver_win_rate'].isna()]\n",
    "\n",
    "\n",
    "model = LinearRegression()\n",
    "model.fit(labeled_data[['business_unit', 'in_country_names', 'continent']], labeled_data['com_reg_ver_win_rate'])\n",
    "\n",
    "\n",
    "unlabeled_data['com_reg_ver_win_rate'] = model.predict(unlabeled_data[['business_unit', 'in_country_names', 'continent']])\n",
    "\n",
    "# 레이블이 없는 데이터에 대한 예측값을 새로운 타겟으로 사용\n",
    "combined_data = pd.concat([\n",
    "    labeled_data,\n",
    "    unlabeled_data\n",
    " ])\n",
    "\n",
    "# train에게 값 넣기\n",
    "train['com_reg_ver_win_rate'] =combined_data['com_reg_ver_win_rate']\n",
    "\n",
    "# 결합된 데이터셋으로 모델 재학습\n",
    "model.fit(combined_data[['business_unit', 'in_country_names', 'continent']], combined_data['com_reg_ver_win_rate'])\n",
    "\n",
    "\n",
    "\n",
    "# 모델로 test에 넣기\n",
    "\n",
    "labeled_data = test_crvwr[test_crvwr['com_reg_ver_win_rate'].notna()]\n",
    "unlabeled_data = test_crvwr[test_crvwr['com_reg_ver_win_rate'].isna()]\n",
    "\n",
    "unlabeled_data['com_reg_ver_win_rate'] = model.predict(unlabeled_data[['business_unit', 'in_country_names', 'continent']])\n",
    "\n",
    "combined_data = pd.concat([\n",
    "    labeled_data,\n",
    "    unlabeled_data\n",
    " ])\n",
    "\n",
    "# test에 값 넣기\n",
    "test['com_reg_ver_win_rate'] =combined_data['com_reg_ver_win_rate']"
   ]
  },
  {
   "cell_type": "markdown",
   "id": "9693dd51",
   "metadata": {},
   "source": [
    "## customer_type"
   ]
  },
  {
   "cell_type": "code",
   "execution_count": 7,
   "id": "a1f4c7f0",
   "metadata": {},
   "outputs": [],
   "source": [
    "import re\n",
    "\n",
    "train['customer_type'] = train['customer_type'].fillna('ETC')\n",
    "test['customer_type'] = test['customer_type'].fillna('ETC')\n",
    "\n",
    "\n",
    "cust_type = train['customer_type'].str.upper()\n",
    "cust_type= cust_type.str.replace('-', ' ').str.replace('/', ' ').str.replace(r'\\s+', ' ', regex=True)\n",
    "cust_type[cust_type == 'OTHER'] = \"ETC\"\n",
    "\n",
    "frequency = cust_type.value_counts()\n",
    "threshold = 10\n",
    "train['customer_type_grouped'] = cust_type.apply(lambda x: x if frequency[x] >= threshold else 'ETC')\n",
    "\n",
    "\n",
    "\n",
    "cust_type = test['customer_type'].str.upper()\n",
    "cust_type= cust_type.str.replace('-', ' ').str.replace('/', ' ').str.replace(r'\\s+', ' ', regex=True)\n",
    "cust_type[cust_type == 'OTHER'] = \"ETC\"\n",
    "\n",
    "frequency = cust_type.value_counts()\n",
    "threshold = 5\n",
    "test['customer_type_grouped'] = cust_type.apply(lambda x: x if frequency[x] >= threshold else 'ETC')\n",
    "\n",
    "\n",
    "train = train.drop(['customer_type'], axis = 1)\n",
    "test = test.drop(['customer_type'], axis = 1)"
   ]
  },
  {
   "cell_type": "markdown",
   "id": "9f565e2f",
   "metadata": {},
   "source": [
    "## lead_desc_length"
   ]
  },
  {
   "cell_type": "code",
   "execution_count": 8,
   "id": "8d9085a5",
   "metadata": {},
   "outputs": [],
   "source": [
    "quantiles = train['lead_desc_length'].quantile([0.25, 0.75])\n",
    "bins = [0, quantiles[0.25], quantiles[0.75], train['lead_desc_length'].max()]\n",
    "\n",
    "labels = ['short', 'medium', 'long']\n",
    "train['length_category'] = pd.cut(train['lead_desc_length'], bins=bins, labels=labels, include_lowest=True)\n",
    "\n",
    "test['length_category'] = pd.cut(test['lead_desc_length'], bins=bins, labels=labels, include_lowest=True)\n",
    "\n",
    "\n",
    "\n",
    "train = train.drop(['lead_desc_length'], axis = 1)\n",
    "test = test.drop(['lead_desc_length'], axis = 1)"
   ]
  },
  {
   "cell_type": "markdown",
   "id": "7a9cada3",
   "metadata": {},
   "source": [
    "## inquiry_type\n"
   ]
  },
  {
   "cell_type": "code",
   "execution_count": 9,
   "id": "3febab59",
   "metadata": {},
   "outputs": [],
   "source": [
    "train['inquiry_type'] = train['inquiry_type'].fillna('other')\n",
    "test['inquiry_type'] = test['inquiry_type'].fillna('other')\n",
    "\n",
    "\n",
    "\n",
    "inquiry = train.inquiry_type.str.upper().str.replace('-', ' ').str.replace('_', ' ').str.replace('/', ' ').str.replace(r'\\s+', ' ', regex=True)\n",
    "frequency = inquiry.value_counts()\n",
    "threshold = 30\n",
    "train['inquiry_type_grouped'] = inquiry.apply(lambda x: x if frequency[x] >= threshold else 'ETC')\n",
    "\n",
    "\n",
    "inquiry = test.inquiry_type.str.upper().str.replace('-', ' ').str.replace('_', ' ').str.replace('/', ' ').str.replace(r'\\s+', ' ', regex=True)\n",
    "frequency = inquiry.value_counts()\n",
    "threshold = 30\n",
    "test['inquiry_type_grouped'] = inquiry.apply(lambda x: x if frequency[x] >= threshold else 'ETC')\n",
    "\n",
    "\n",
    "consolidated_categories = {\n",
    "    'OTHERS': 'OTHER/ETC',\n",
    "    'OTHER': 'OTHER/ETC',\n",
    "    'OTHER ': 'OTHER/ETC',\n",
    "    'ETC': 'OTHER/ETC',\n",
    "    'ETC.': 'OTHER/ETC'\n",
    "    \n",
    "}\n",
    "\n",
    "train['inquiry_type_grouped'] = train['inquiry_type_grouped'].replace(consolidated_categories)\n",
    "test['inquiry_type_grouped'] = test['inquiry_type_grouped'].replace(consolidated_categories)\n",
    "\n",
    "\n",
    "train = train.drop(['inquiry_type'], axis = 1)\n",
    "test = test.drop(['inquiry_type'], axis = 1)\n"
   ]
  },
  {
   "cell_type": "markdown",
   "id": "c27db992",
   "metadata": {},
   "source": [
    "## customer_position"
   ]
  },
  {
   "cell_type": "code",
   "execution_count": 10,
   "id": "bb98c0aa",
   "metadata": {},
   "outputs": [],
   "source": [
    "inquiry = train.customer_position.str.upper().str.replace('-', ' ').str.replace('_', ' ').str.replace('/', ' ').str.replace(r'\\s+', ' ', regex=True)\n",
    "frequency = inquiry.value_counts()\n",
    "threshold = 30\n",
    "train['customer_position_grouped'] = inquiry.apply(lambda x: x if frequency[x] >= threshold else 'ETC')\n",
    "\n",
    "\n",
    "inquiry = test.customer_position.str.upper().str.replace('-', ' ').str.replace('_', ' ').str.replace('/', ' ').str.replace(r'\\s+', ' ', regex=True)\n",
    "frequency = inquiry.value_counts()\n",
    "threshold = 30\n",
    "test['customer_position_grouped'] = inquiry.apply(lambda x: x if frequency[x] >= threshold else 'ETC')\n",
    "\n",
    "\n",
    "\n",
    "\n",
    "consolidated_categories = {\n",
    "    'OTHERS': 'OTHER/ETC',\n",
    "    'OTHER': 'OTHER/ETC',\n",
    "    'OTHER ': 'OTHER/ETC',\n",
    "    'ETC': 'OTHER/ETC',\n",
    "    'ETC.': 'OTHER/ETC'\n",
    "    \n",
    "}\n",
    "\n",
    "train['customer_position_grouped'] = train['customer_position_grouped'].replace(consolidated_categories)\n",
    "test['customer_position_grouped'] = test['customer_position_grouped'].replace(consolidated_categories)\n",
    "\n",
    "train = train.drop(['customer_position'], axis = 1)\n",
    "test = test.drop(['customer_position'], axis = 1)\n"
   ]
  },
  {
   "cell_type": "markdown",
   "id": "2cd27de9",
   "metadata": {},
   "source": [
    "## lead_owner"
   ]
  },
  {
   "cell_type": "code",
   "execution_count": 11,
   "id": "035ab87d",
   "metadata": {},
   "outputs": [],
   "source": [
    "lead_owner = train['lead_owner']\n",
    "frequency = train.lead_owner.value_counts()\n",
    "threshold = 20\n",
    "train['lead_owenr_grouped'] = lead_owner.apply(lambda x: x if frequency[x] >= threshold else 'ETC')\n",
    "\n",
    "lead_owner = test['lead_owner']\n",
    "frequency = test.lead_owner.value_counts()\n",
    "threshold = 5\n",
    "test['lead_owenr_grouped'] = lead_owner.apply(lambda x: x if frequency[x] >= threshold else 'ETC')\n",
    "\n",
    "\n",
    "train = train.drop(['lead_owner'], axis = 1)\n",
    "test = test.drop(['lead_owner'], axis = 1)"
   ]
  },
  {
   "cell_type": "markdown",
   "id": "00dd8676",
   "metadata": {},
   "source": [
    "## product_category"
   ]
  },
  {
   "cell_type": "code",
   "execution_count": 12,
   "id": "6ff7a2d4",
   "metadata": {},
   "outputs": [],
   "source": [
    "\n",
    "train['product_category'] = train.product_category.fillna('X')\n",
    "test['product_category'] =test.product_category.fillna('X')\n",
    "\n",
    "product_category = train['product_category'].str.upper().str.replace('-', ' ').str.replace('_', ' ').str.replace('/', ' ').str.replace(r'\\s+', ' ', regex=True)\n",
    "frequency = product_category.value_counts()\n",
    "threshold = 50\n",
    "train['product_category_grouped'] = product_category.apply(lambda x: x if frequency[x] >= threshold else 'ETC')\n",
    "\n",
    "\n",
    "\n",
    "product_category = test['product_category'].str.upper().str.replace('-', ' ').str.replace('_', ' ').str.replace('/', ' ').str.replace(r'\\s+', ' ', regex=True)\n",
    "frequency = product_category.value_counts()\n",
    "threshold = 5\n",
    "test['product_category_grouped'] = product_category.apply(lambda x: x if frequency[x] >= threshold else 'ETC')\n",
    "\n",
    "\n",
    "consolidated_categories = {\n",
    "    'OTHERS': 'OTHER/ETC',\n",
    "    'OTHER': 'OTHER/ETC',\n",
    "    'OTHER ': 'OTHER/ETC',\n",
    "    'ETC': 'OTHER/ETC',\n",
    "    'ETC.': 'OTHER/ETC'\n",
    "    \n",
    "}\n",
    "\n",
    "train['product_category_grouped'] = train['product_category_grouped'].replace(consolidated_categories)\n",
    "test['product_category_grouped'] = test['product_category_grouped'].replace(consolidated_categories)\n",
    "\n",
    "\n",
    "train = train.drop(['product_category'], axis = 1)\n",
    "test = test.drop(['product_category'], axis = 1)\n"
   ]
  },
  {
   "cell_type": "markdown",
   "id": "5d716f23",
   "metadata": {},
   "source": [
    "## expected_timeline"
   ]
  },
  {
   "cell_type": "code",
   "execution_count": 13,
   "id": "315a159a",
   "metadata": {},
   "outputs": [],
   "source": [
    "train['expected_timeline'] = train.expected_timeline.fillna('X')\n",
    "test['expected_timeline'] =test.expected_timeline.fillna('X')\n",
    "\n",
    "\n",
    "expected_timeline = train['expected_timeline'].str.upper().str.replace('-', ' ').str.replace('_', ' ').str.replace('/', ' ').str.replace('.', ' ').str.replace(r'\\s+', ' ', regex=True)\n",
    "frequency = expected_timeline.value_counts()\n",
    "threshold = 20\n",
    "train['expected_timeline_grouped'] = expected_timeline.apply(lambda x: x if frequency[x] >= threshold else 'ETC')\n",
    "\n",
    "\n",
    "expected_timeline = test['expected_timeline'].str.upper().str.replace('-', ' ').str.replace('_', ' ').str.replace('/', ' ').str.replace('.', ' ').str.replace(r'\\s+', ' ', regex=True)\n",
    "frequency = expected_timeline.value_counts()\n",
    "threshold = 10\n",
    "test['expected_timeline_grouped'] = expected_timeline.apply(lambda x: x if frequency[x] >= threshold else 'ETC')\n",
    "\n",
    "\n",
    "\n",
    "train = train.drop(['expected_timeline'], axis = 1)\n",
    "test = test.drop(['expected_timeline'], axis = 1)\n",
    "\n"
   ]
  },
  {
   "cell_type": "markdown",
   "id": "587e82a8",
   "metadata": {},
   "source": [
    "## customer_job"
   ]
  },
  {
   "cell_type": "code",
   "execution_count": 14,
   "id": "b9fda3af",
   "metadata": {},
   "outputs": [],
   "source": [
    "train['customer_job'] = train.customer_job.fillna('X')\n",
    "test['customer_job'] =test.customer_job.fillna('X')\n",
    "\n",
    "\n",
    "customer_job = train['customer_job'].str.upper().str.replace('-', ' ').str.replace('_', ' ').str.replace('/', ' ').str.replace('.', ' ').str.replace(r'\\s+', ' ', regex=True)\n",
    "frequency = customer_job.value_counts()\n",
    "threshold = 20\n",
    "train['customer_job_grouped'] = customer_job.apply(lambda x: x if frequency[x] >= threshold else 'ETC')\n",
    "\n",
    "\n",
    "customer_job = test['customer_job'].str.upper().str.replace('-', ' ').str.replace('_', ' ').str.replace('/', ' ').str.replace('.', ' ').str.replace(r'\\s+', ' ', regex=True)\n",
    "frequency = customer_job.value_counts()\n",
    "threshold = 10\n",
    "test['customer_job_grouped'] = customer_job.apply(lambda x: x if frequency[x] >= threshold else 'ETC')\n",
    "\n",
    "consolidated_categories = {\n",
    "    'OTHERS': 'OTHER/ETC',\n",
    "    'OTHER': 'OTHER/ETC',\n",
    "    'OTHER ': 'OTHER/ETC',\n",
    "    'ETC': 'OTHER/ETC',\n",
    "    'ETC.': 'OTHER/ETC'\n",
    "    \n",
    "}\n",
    "\n",
    "train['customer_job_grouped'] = train['customer_job_grouped'].replace(consolidated_categories)\n",
    "test['customer_job_grouped'] = test['customer_job_grouped'].replace(consolidated_categories)\n",
    "\n",
    "train = train.drop(['customer_job'], axis = 1)\n",
    "test = test.drop(['customer_job'], axis = 1)"
   ]
  },
  {
   "cell_type": "markdown",
   "id": "de51890f",
   "metadata": {},
   "source": [
    "## drop lst"
   ]
  },
  {
   "cell_type": "code",
   "execution_count": 15,
   "id": "693a42a1",
   "metadata": {
    "scrolled": true
   },
   "outputs": [],
   "source": [
    "drop_lst = ['historical_existing_cnt', 'product_subcategory', 'product_modelname', 'ver_win_rate_x', 'ver_win_ratio_per_bu', 'business_area', 'business_subarea','id_strategic_ver', 'it_strategic_ver','idit_strategic_ver' ]\n",
    "train = train.drop(drop_lst, axis = 1)\n",
    "test = test.drop(drop_lst, axis = 1)"
   ]
  },
  {
   "cell_type": "code",
   "execution_count": 16,
   "id": "65f59d63",
   "metadata": {},
   "outputs": [],
   "source": [
    "def label_encoding(series: pd.Series) -> pd.Series:\n",
    "    \"\"\"범주형 데이터를 시리즈 형태로 받아 숫자형 데이터로 변환합니다.\"\"\"\n",
    "\n",
    "    my_dict = {}\n",
    "\n",
    "    # 모든 요소를 문자열로 변환\n",
    "    series = series.astype(str)\n",
    "\n",
    "    for idx, value in enumerate(sorted(series.unique())):\n",
    "        my_dict[value] = idx\n",
    "    series = series.map(my_dict)\n",
    "\n",
    "    return series"
   ]
  },
  {
   "cell_type": "code",
   "execution_count": 17,
   "id": "fb61009d",
   "metadata": {},
   "outputs": [],
   "source": [
    "# 레이블 인코딩할 칼럼들\n",
    "label_columns = [\n",
    "    'business_unit', 'enterprise', 'response_corporate','in_country_names',\n",
    "            'customer_idx_grouped','continent','customer_type_grouped','length_category',\n",
    "            'inquiry_type_grouped','customer_position_grouped', 'lead_owenr_grouped',\n",
    "            'product_category_grouped','expected_timeline_grouped','customer_job_grouped',\n",
    "]\n",
    "\n",
    "df_all = pd.concat([train[label_columns], test[label_columns]])\n",
    "\n",
    "for col in label_columns:\n",
    "    df_all[col] = label_encoding(df_all[col])"
   ]
  },
  {
   "cell_type": "code",
   "execution_count": 18,
   "id": "7944c674",
   "metadata": {},
   "outputs": [],
   "source": [
    "for col in label_columns:  \n",
    "    train[col] = df_all.iloc[: len(train)][col]\n",
    "    test[col] = df_all.iloc[len(test) :][col]"
   ]
  },
  {
   "cell_type": "markdown",
   "id": "6f3f88e6",
   "metadata": {},
   "source": [
    "## lightgbm"
   ]
  },
  {
   "cell_type": "code",
   "execution_count": 34,
   "id": "52f6da05",
   "metadata": {},
   "outputs": [],
   "source": [
    "model_params = {\n",
    "    'objective': 'binary', # 이진 분류\n",
    "    'boosting_type': 'gbdt',\n",
    "    'metric': 'auc', # 평가 지표 설정\n",
    "    'feature_fraction': 0.8, # 피처 샘플링 비율\n",
    "    'bagging_fraction': 0.8, # 데이터 샘플링 비율\n",
    "    'bagging_freq': 1,\n",
    "    'n_estimators': 10000, # 트리 개수\n",
    "    'early_stopping_rounds': 100,\n",
    "    'seed': 42,\n",
    "    'verbose': -1,\n",
    "    'n_jobs': -1,    \n",
    "}"
   ]
  },
  {
   "cell_type": "code",
   "execution_count": null,
   "id": "31d351e0",
   "metadata": {
    "collapsed": true
   },
   "outputs": [],
   "source": [
    "from sklearn.model_selection import StratifiedKFold\n",
    "import lightgbm as lgb\n",
    "from lightgbm import early_stopping\n",
    "from lightgbm import log_evaluation\n",
    "from sklearn.metrics import precision_score, recall_score, f1_score, roc_auc_score, precision_recall_curve, roc_curve\n",
    "import gc\n",
    "\n",
    "folds = 10\n",
    "x_train = train.drop(['is_converted'], axis = 1)\n",
    "x_test = test.drop(['is_converted'], axis = 1)\n",
    "\n",
    "y_train = train['is_converted']\n",
    "\n",
    "\n",
    "test_preds = np.zeros(x_test.shape[0])\n",
    "\n",
    "\n",
    "y_oof = np.zeros(train.shape[0])\n",
    "\n",
    "\n",
    "score = 0\n",
    "\n",
    "\n",
    "f1 = pd.DataFrame()\n",
    "f1['feature'] = x_train.columns\n",
    "\n",
    "\n",
    "skf = StratifiedKFold(n_splits=folds, shuffle=True, random_state= 42)\n",
    "\n",
    "\n",
    "for fold, (tr_idx, val_idx) in  enumerate(skf.split(x_train, y_train)):\n",
    "    \n",
    "    x_tr, x_val = x_train.loc[tr_idx,:], x_train.loc[val_idx, :]\n",
    "    y_tr, y_val = y_train[tr_idx], y_train[val_idx]\n",
    "    \n",
    "    print(f'fold: {fold+1}, x_tr.shape: {x_tr.shape}, x_val.shape: {x_val.shape}')\n",
    "    \n",
    "    \n",
    "    dtrain = lgb.Dataset(x_tr, label = y_tr)\n",
    "    dvalid = lgb.Dataset(x_val, label = y_val)\n",
    "    \n",
    "    \n",
    "    clf = lgb.train(\n",
    "    model_params,\n",
    "    dtrain,\n",
    "    valid_sets = [dtrain,dvalid],\n",
    "    categorical_feature = 'auto',\n",
    "    callbacks= [log_evaluation(0),early_stopping(100,verbose=False)]\n",
    "    )\n",
    "    \n",
    "    \n",
    "    \n",
    "    val_preds =clf.predict(x_val)\n",
    "    val_preds_binary = (val_preds > 0.5).astype(bool)\n",
    "    y_oof[val_idx] = val_preds_binary\n",
    "    \n",
    "    \n",
    "    print(f\"Fold {fold + 1} | AUC: {f1_score(y_val, val_preds_binary)}\")\n",
    "    print('-'*80)\n",
    "    \n",
    "    score += f1_score(y_val, val_preds_binary) / folds\n",
    "    \n",
    "    test_preds += clf.predict(x_test) / folds\n",
    "    test_preds_binary = (test_preds > 0.5).astype(bool)\n",
    "    \n",
    "    f1[f'fold_{fold+1}'] = clf.feature_importance()\n",
    "    \n",
    "    del x_tr, x_val, y_tr, y_val\n",
    "    gc.collect()\n",
    "\n",
    "print(f\"\\nMean AUC = {score}\") # 폴드별 Validation 스코어 출력\n",
    "print(f\"OOF AUC = {f1_score(y_train, y_oof)}\") # Out Of Fold Validation 스코어 출력\n",
    "\n",
    "f1_cols = [col for col in f1.columns if 'fold_' in col]\n",
    "f1['importance'] = f1[f1_cols].mean(axis=1)"
   ]
  },
  {
   "cell_type": "markdown",
   "id": "4334ec10",
   "metadata": {},
   "source": [
    "## plot_feature_importances"
   ]
  },
  {
   "cell_type": "code",
   "execution_count": 40,
   "id": "06e1a60c",
   "metadata": {},
   "outputs": [],
   "source": [
    "'''\n",
    "    피처 중요도 정규화(importance_normalized) 및 누적 중요도(cumulative_importance)를 계산하고\n",
    "    중요도 정규화 순으로 n개의 바플롯을 그리는 함수\n",
    "'''\n",
    "def plot_feature_importances(df, n=20, color='blue', figsize=(12,8)):\n",
    "    # 피처 중요도 순으로 내림차순 정렬\n",
    "    df = df.sort_values('importance', ascending = False).reset_index(drop = True)\n",
    "    \n",
    "    # 피처 중요도 정규화 및 누적 중요도 계산\n",
    "    df['importance_normalized'] = df['importance'] / df['importance'].sum()\n",
    "    df['cumulative_importance'] = np.cumsum(df['importance_normalized'])\n",
    "    \n",
    "    plt.rcParams['font.size'] = 12\n",
    "    plt.style.use('fivethirtyeight')\n",
    "    # 피처 중요도 순으로 n개까지 바플롯으로 그리기\n",
    "    df.loc[:n, :].plot.barh(y='importance_normalized', \n",
    "                            x='feature', color=color, \n",
    "                            edgecolor='k', figsize=figsize,\n",
    "                            legend=False)\n",
    "\n",
    "    plt.xlabel('Normalized Importance', size=18); plt.ylabel(''); \n",
    "    plt.title(f'Top {n} Most Important Features', size=18)\n",
    "    plt.gca().invert_yaxis()\n",
    "    \n",
    "    return df"
   ]
  },
  {
   "cell_type": "code",
   "execution_count": 41,
   "id": "7f912459",
   "metadata": {
    "scrolled": true
   },
   "outputs": [
    {
     "data": {
      "image/png": "[encoded data removed]",
      "text/plain": [
       "<Figure size 1200x800 with 1 Axes>"
      ]
     },
     "metadata": {},
     "output_type": "display_data"
    }
   ],
   "source": [
    "f1 = plot_feature_importances(f1)"
   ]
  },
  {
   "cell_type": "code",
   "execution_count": 77,
   "id": "9bf0bcc5",
   "metadata": {},
   "outputs": [],
   "source": [
    "train = train.drop(['ver_cus', 'ver_pro', 'business_unit'], axis = 1)\n",
    "test = test.drop(['ver_cus', 'ver_pro', 'business_unit'], axis = 1)"
   ]
  }
 ],
 "metadata": {
  "kernelspec": {
   "display_name": "Python 3 (ipykernel)",
   "language": "python",
   "name": "python3"
  },
  "language_info": {
   "codemirror_mode": {
    "name": "ipython",
    "version": 3
   },
   "file_extension": ".py",
   "mimetype": "text/x-python",
   "name": "python",
   "nbconvert_exporter": "python",
   "pygments_lexer": "ipython3",
   "version": "3.10.13"
  }
 },
 "nbformat": 4,
 "nbformat_minor": 5
}
